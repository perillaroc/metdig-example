{
 "cells": [
  {
   "cell_type": "code",
   "execution_count": 1,
   "outputs": [
    {
     "data": {
      "text/plain": "['20031420.240',\n '20031420.234',\n '20031420.228',\n '20031420.222',\n '20031420.216',\n '20031420.210',\n '20031420.204',\n '20031420.198',\n '20031420.192',\n '20031420.186']"
     },
     "metadata": {},
     "output_type": "execute_result",
     "execution_count": 1
    }
   ],
   "source": [
    "# 获取指定目录下的所有文件\n",
    "from nmc_met_io.retrieve_micaps_server import get_file_list\n",
    "\n",
    "file_list = get_file_list(\n",
    "    \"ECMWF_HR/TMP/850\",\n",
    "    latest=10,\n",
    ")\n",
    "file_list"
   ],
   "metadata": {
    "collapsed": false,
    "pycharm": {
     "name": "#%%\n",
     "is_executing": false
    }
   }
  },
  {
   "cell_type": "code",
   "execution_count": 2,
   "outputs": [
    {
     "data": {
      "text/plain": "'20031420'"
     },
     "metadata": {},
     "output_type": "execute_result",
     "execution_count": 2
    }
   ],
   "source": [
    "# 返回最新的起报时间\n",
    "from nmc_met_io.retrieve_micaps_server import get_latest_initTime\n",
    "get_latest_initTime(\"ECMWF_HR/TMP/850\")"
   ],
   "metadata": {
    "collapsed": false,
    "pycharm": {
     "name": "#%%\n",
     "is_executing": false
    }
   }
  },
  {
   "cell_type": "code",
   "execution_count": 3,
   "outputs": [
    {
     "name": "stdout",
     "text": [
      "<xarray.Dataset>\n",
      "Dimensions:                  (lat: 281, level: 1, lon: 361, time: 1)\n",
      "Coordinates:\n",
      "  * time                     (time) datetime64[ns] 2020-03-12T08:00:00\n",
      "  * level                    (level) float32 850.0\n",
      "  * lat                      (lat) float64 60.0 59.75 59.5 ... -9.5 -9.75 -10.0\n",
      "  * lon                      (lon) float64 60.0 60.25 60.5 ... 149.5 149.8 150.0\n",
      "    forecast_reference_time  datetime64[ns] 2020-03-11T08:00:00\n",
      "    forecast_period          (time) float64 24.0\n",
      "Data variables:\n",
      "    data                     (time, level, lat, lon) float32 -2.6221583 ... 19.830967\n",
      "Attributes:\n",
      "    Conventions:  CF-1.6\n",
      "    Origin:       MICAPS Cassandra Server\n"
     ],
     "output_type": "stream"
    }
   ],
   "source": [
    "# 读取单个时次模式标量预报数据\n",
    "from nmc_met_io.retrieve_micaps_server import get_model_grid\n",
    "directory = 'ECMWF_HR/TMP/850'\n",
    "filename = '20031108.024'\n",
    "data = get_model_grid(\n",
    "    directory, \n",
    "    filename=filename, \n",
    "    cache=False\n",
    ")\n",
    "if data is not None:\n",
    "    print(data)\n",
    "else:\n",
    "    print(\"Retrieve failed.\")\n",
    "    "
   ],
   "metadata": {
    "collapsed": false,
    "pycharm": {
     "name": "#%%\n",
     "is_executing": false
    }
   }
  },
  {
   "cell_type": "code",
   "execution_count": 4,
   "outputs": [
    {
     "name": "stdout",
     "text": [
      "<xarray.DataArray 'TEM' (time: 1, level: 1, lat: 281, lon: 361)>\n",
      "array([[[[ -2.6221583,  -2.3409083,  -1.9659082, ..., -12.387783 ,\n",
      "          -13.622158 , -14.684658 ],\n",
      "         [ -1.2940332,  -1.3096582,  -1.0909082, ..., -11.856533 ,\n",
      "          -12.106533 , -12.856533 ],\n",
      "         [ -0.1065332,  -0.3409082,  -0.2471582, ..., -14.372158 ,\n",
      "          -14.122158 , -13.981533 ],\n",
      "         ...,\n",
      "         [ 18.424717 ,  18.409092 ,  18.502842 , ...,  19.159092 ,\n",
      "           19.252842 ,  19.159092 ],\n",
      "         [ 18.471592 ,  18.393467 ,  18.565342 , ...,  19.377842 ,\n",
      "           19.330967 ,  19.362217 ],\n",
      "         [ 18.502842 ,  18.455967 ,  18.502842 , ...,  20.112217 ,\n",
      "           19.815342 ,  19.830967 ]]]], dtype=float32)\n",
      "Coordinates:\n",
      "  * time                     (time) datetime64[ns] 2020-03-12T08:00:00\n",
      "  * level                    (level) float32 850.0\n",
      "  * lat                      (lat) float64 60.0 59.75 59.5 ... -9.5 -9.75 -10.0\n",
      "  * lon                      (lon) float64 60.0 60.25 60.5 ... 149.5 149.8 150.0\n",
      "    forecast_reference_time  datetime64[ns] 2020-03-11T08:00:00\n",
      "    forecast_period          (time) float64 24.0\n",
      "Attributes:\n",
      "    long_name:  temperature\n",
      "    units:      degree\n"
     ],
     "output_type": "stream"
    }
   ],
   "source": [
    "# 可以指定数据的变量名称, 变量属性等信息\n",
    "data = get_model_grid(\n",
    "    directory, \n",
    "    filename=filename, \n",
    "    varname='TEM', \n",
    "    varattrs={'long_name':'temperature', 'units':'degree'}, \n",
    "    cache=False\n",
    ")\n",
    "if data is not None:\n",
    "    print(data.TEM)\n",
    "else:\n",
    "    print(\"Retrieve failed.\")"
   ],
   "metadata": {
    "collapsed": false,
    "pycharm": {
     "name": "#%%\n",
     "is_executing": false
    }
   }
  },
  {
   "cell_type": "code",
   "execution_count": 5,
   "outputs": [
    {
     "name": "stderr",
     "text": [
      "ECMWF_HR/TMP/850: 100%|██████████| 9/9 [00:00<00:00, 14.73it/s]\n"
     ],
     "output_type": "stream"
    },
    {
     "data": {
      "text/plain": "<xarray.Dataset>\nDimensions:                  (lat: 281, level: 1, lon: 361, time: 9)\nCoordinates:\n    forecast_reference_time  datetime64[ns] 2020-03-11T08:00:00\n  * lon                      (lon) float64 60.0 60.25 60.5 ... 149.5 149.8 150.0\n  * lat                      (lat) float64 60.0 59.75 59.5 ... -9.5 -9.75 -10.0\n  * level                    (level) float32 850.0\n  * time                     (time) datetime64[ns] 2020-03-11T08:00:00 ... 2020-03-12T08:00:00\n    forecast_period          (time) float64 0.0 3.0 6.0 9.0 ... 18.0 21.0 24.0\nData variables:\n    data                     (time, level, lat, lon) float32 -3.9067652 ... 19.830967\nAttributes:\n    Conventions:  CF-1.6\n    Origin:       MICAPS Cassandra Server",
      "text/html": "<pre>&lt;xarray.Dataset&gt;\nDimensions:                  (lat: 281, level: 1, lon: 361, time: 9)\nCoordinates:\n    forecast_reference_time  datetime64[ns] 2020-03-11T08:00:00\n  * lon                      (lon) float64 60.0 60.25 60.5 ... 149.5 149.8 150.0\n  * lat                      (lat) float64 60.0 59.75 59.5 ... -9.5 -9.75 -10.0\n  * level                    (level) float32 850.0\n  * time                     (time) datetime64[ns] 2020-03-11T08:00:00 ... 2020-03-12T08:00:00\n    forecast_period          (time) float64 0.0 3.0 6.0 9.0 ... 18.0 21.0 24.0\nData variables:\n    data                     (time, level, lat, lon) float32 -3.9067652 ... 19.830967\nAttributes:\n    Conventions:  CF-1.6\n    Origin:       MICAPS Cassandra Server</pre>"
     },
     "metadata": {},
     "output_type": "execute_result",
     "execution_count": 5
    }
   ],
   "source": [
    "# 获取多个数据\n",
    "from nmc_met_io.retrieve_micaps_server import get_model_grids\n",
    "dataset = get_model_grids(\n",
    "    directory, \n",
    "    filenames=[f\"20031108.{i:03}\" for i in range(0, 25, 3)], \n",
    "    pbar=True,\n",
    "    cache=False\n",
    ")\n",
    "dataset"
   ],
   "metadata": {
    "collapsed": false,
    "pycharm": {
     "name": "#%%\n",
     "is_executing": false
    }
   }
  },
  {
   "cell_type": "code",
   "execution_count": 22,
   "outputs": [
    {
     "data": {
      "text/plain": "<xarray.DataArray 'data' (time: 24, level: 1, points: 2)>\narray([[[13.69967175, 11.26998594]],\n\n       [[14.62996202, 15.23000765]],\n\n       [[15.12631122, 16.63997965]],\n\n       [[11.43631271, 10.1399771 ]],\n\n       [[ 8.04640026,  4.27998505]],\n\n       [[ 6.26624725,  3.3999855 ]],\n\n       [[ 4.93257821,  2.60998089]],\n\n       [[ 6.5230763 ,  4.69997664]],\n\n       [[13.8299143 , 13.82000623]],\n\n       [[15.23339242, 19.70998893]],\n\n       [[15.47323917, 19.92998769]],\n\n       [[11.50967601, 13.65999475]],\n\n       [[ 7.2464106 ,  7.83998504]],\n\n       [[ 4.72661674,  6.18998897]],\n\n       [[ 1.97330037,  5.49999387]],\n\n       [[ 2.64697281,  8.04000368]],\n\n       [[ 4.77351423, 12.01000686]],\n\n       [[12.09575915, 14.71999614]],\n\n       [[12.59013931, 15.23998473]],\n\n       [[ 8.69924855, 11.99999397]],\n\n       [[ 6.19290629,  9.0599925 ]],\n\n       [[ 5.52294008,  7.23998621]],\n\n       [[ 4.668902  ,  6.77999308]],\n\n       [[ 7.32416252,  7.4800055 ]]])\nCoordinates:\n    forecast_reference_time  datetime64[ns] 2020-03-14T08:00:00\n  * level                    (level) float32 2.0\n  * time                     (time) datetime64[ns] 2020-03-14T11:00:00 ... 2020-03-17T08:00:00\n    forecast_period          (time) float64 3.0 6.0 9.0 12.0 ... 66.0 69.0 72.0\n    lon                      (points) float64 116.4 110.0\n    lat                      (points) float64 39.9 32.0\nDimensions without coordinates: points\nAttributes:\n    units:    ",
      "text/html": "<pre>&lt;xarray.DataArray &#x27;data&#x27; (time: 24, level: 1, points: 2)&gt;\narray([[[13.69967175, 11.26998594]],\n\n       [[14.62996202, 15.23000765]],\n\n       [[15.12631122, 16.63997965]],\n\n       [[11.43631271, 10.1399771 ]],\n\n       [[ 8.04640026,  4.27998505]],\n\n       [[ 6.26624725,  3.3999855 ]],\n\n       [[ 4.93257821,  2.60998089]],\n\n       [[ 6.5230763 ,  4.69997664]],\n\n       [[13.8299143 , 13.82000623]],\n\n       [[15.23339242, 19.70998893]],\n\n       [[15.47323917, 19.92998769]],\n\n       [[11.50967601, 13.65999475]],\n\n       [[ 7.2464106 ,  7.83998504]],\n\n       [[ 4.72661674,  6.18998897]],\n\n       [[ 1.97330037,  5.49999387]],\n\n       [[ 2.64697281,  8.04000368]],\n\n       [[ 4.77351423, 12.01000686]],\n\n       [[12.09575915, 14.71999614]],\n\n       [[12.59013931, 15.23998473]],\n\n       [[ 8.69924855, 11.99999397]],\n\n       [[ 6.19290629,  9.0599925 ]],\n\n       [[ 5.52294008,  7.23998621]],\n\n       [[ 4.668902  ,  6.77999308]],\n\n       [[ 7.32416252,  7.4800055 ]]])\nCoordinates:\n    forecast_reference_time  datetime64[ns] 2020-03-14T08:00:00\n  * level                    (level) float32 2.0\n  * time                     (time) datetime64[ns] 2020-03-14T11:00:00 ... 2020-03-17T08:00:00\n    forecast_period          (time) float64 3.0 6.0 9.0 12.0 ... 66.0 69.0 72.0\n    lon                      (points) float64 116.4 110.0\n    lat                      (points) float64 39.9 32.0\nDimensions without coordinates: points\nAttributes:\n    units:    </pre>"
     },
     "metadata": {},
     "output_type": "execute_result",
     "execution_count": 22
    }
   ],
   "source": [
    "import numpy as np\n",
    "\n",
    "from nmc_met_io.retrieve_micaps_server import get_model_points\n",
    "directory = \"NWFD_SCMOC/TMP/2M_ABOVE_GROUND\"\n",
    "forecast_hours = np.arange(3, 75, 3)\n",
    "filenames = [f\"20031408.{hour:03}\" for hour in forecast_hours]\n",
    "points = {\n",
    "    'lon':[116.3833, 110.0], \n",
    "    'lat':[39.9, 32],\n",
    "}\n",
    "data = get_model_points(directory, filenames, points)\n",
    "points = data[\"data\"]\n",
    "points"
   ],
   "metadata": {
    "collapsed": false,
    "pycharm": {
     "name": "#%%\n",
     "is_executing": false
    }
   }
  },
  {
   "cell_type": "code",
   "execution_count": 23,
   "outputs": [
    {
     "data": {
      "text/plain": "<xarray.DataArray 'data' (time: 24, level: 1)>\narray([[13.69967175],\n       [14.62996202],\n       [15.12631122],\n       [11.43631271],\n       [ 8.04640026],\n       [ 6.26624725],\n       [ 4.93257821],\n       [ 6.5230763 ],\n       [13.8299143 ],\n       [15.23339242],\n       [15.47323917],\n       [11.50967601],\n       [ 7.2464106 ],\n       [ 4.72661674],\n       [ 1.97330037],\n       [ 2.64697281],\n       [ 4.77351423],\n       [12.09575915],\n       [12.59013931],\n       [ 8.69924855],\n       [ 6.19290629],\n       [ 5.52294008],\n       [ 4.668902  ],\n       [ 7.32416252]])\nCoordinates:\n    forecast_reference_time  datetime64[ns] 2020-03-14T08:00:00\n  * level                    (level) float32 2.0\n  * time                     (time) datetime64[ns] 2020-03-14T11:00:00 ... 2020-03-17T08:00:00\n    forecast_period          (time) float64 3.0 6.0 9.0 12.0 ... 66.0 69.0 72.0\n    lon                      float64 116.4\n    lat                      float64 39.9\nAttributes:\n    units:    ",
      "text/html": "<pre>&lt;xarray.DataArray &#x27;data&#x27; (time: 24, level: 1)&gt;\narray([[13.69967175],\n       [14.62996202],\n       [15.12631122],\n       [11.43631271],\n       [ 8.04640026],\n       [ 6.26624725],\n       [ 4.93257821],\n       [ 6.5230763 ],\n       [13.8299143 ],\n       [15.23339242],\n       [15.47323917],\n       [11.50967601],\n       [ 7.2464106 ],\n       [ 4.72661674],\n       [ 1.97330037],\n       [ 2.64697281],\n       [ 4.77351423],\n       [12.09575915],\n       [12.59013931],\n       [ 8.69924855],\n       [ 6.19290629],\n       [ 5.52294008],\n       [ 4.668902  ],\n       [ 7.32416252]])\nCoordinates:\n    forecast_reference_time  datetime64[ns] 2020-03-14T08:00:00\n  * level                    (level) float32 2.0\n  * time                     (time) datetime64[ns] 2020-03-14T11:00:00 ... 2020-03-17T08:00:00\n    forecast_period          (time) float64 3.0 6.0 9.0 12.0 ... 66.0 69.0 72.0\n    lon                      float64 116.4\n    lat                      float64 39.9\nAttributes:\n    units:    </pre>"
     },
     "metadata": {},
     "output_type": "execute_result",
     "execution_count": 23
    }
   ],
   "source": [
    "points.sel(points=0)"
   ],
   "metadata": {
    "collapsed": false,
    "pycharm": {
     "name": "#%%\n",
     "is_executing": false
    }
   }
  }
 ],
 "metadata": {
  "kernelspec": {
   "name": "python37664bitnmcdevconda5bcdf677f1204d95855b904f1dac2c1a",
   "language": "python",
   "display_name": "Python 3.7.6 64-bit ('nmcdev': conda)"
  },
  "language_info": {
   "codemirror_mode": {
    "name": "ipython",
    "version": 2
   },
   "file_extension": ".py",
   "mimetype": "text/x-python",
   "name": "python",
   "nbconvert_exporter": "python",
   "pygments_lexer": "ipython2",
   "version": "2.7.6"
  },
  "pycharm": {
   "stem_cell": {
    "cell_type": "raw",
    "source": [],
    "metadata": {
     "collapsed": false
    }
   }
  }
 },
 "nbformat": 4,
 "nbformat_minor": 0
}